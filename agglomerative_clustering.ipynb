{
 "cells": [
  {
   "cell_type": "markdown",
   "id": "2edafca8-ed85-42ab-b090-4ebd66f5a9ef",
   "metadata": {},
   "source": [
    "# Create predefined 4-letter strings for a higher similarity rate"
   ]
  },
  {
   "cell_type": "code",
   "execution_count": 1,
   "id": "8cb48324-7cbe-4f35-9058-50236d2c4058",
   "metadata": {},
   "outputs": [
    {
     "data": {
      "text/plain": [
       "['rJJO',\n",
       " 'lqLi',\n",
       " 'ljli',\n",
       " 'kutv',\n",
       " 'TGyl',\n",
       " 'ZOkD',\n",
       " 'yXTS',\n",
       " 'iycn',\n",
       " 'Rxqi',\n",
       " 'EoGB']"
      ]
     },
     "execution_count": 1,
     "metadata": {},
     "output_type": "execute_result"
    }
   ],
   "source": [
    "from random import choice, randint\n",
    "from string import ascii_letters\n",
    "\n",
    "\n",
    "words = [\"\".join(choice(ascii_letters) for _ in range(4)) for _ in range(10)]\n",
    "words"
   ]
  },
  {
   "cell_type": "markdown",
   "id": "269c9c6f-3549-4cc9-beea-0b1d105e641e",
   "metadata": {},
   "source": [
    "# Create a dataset with strings of variable length between 32 and 64 along its shingles"
   ]
  },
  {
   "cell_type": "code",
   "execution_count": 3,
   "id": "9e3d9caa-6efd-4e71-8f44-7e816e5adb76",
   "metadata": {},
   "outputs": [
    {
     "data": {
      "text/plain": [
       "[0,\n",
       " 'ZOkDZOkDrJJOEoGBkutvrJJOkutvlqLiTGylZOkDRxqiRxqiyXTS',\n",
       " ['ZOkD',\n",
       "  'OkDZ',\n",
       "  'kDZO',\n",
       "  'DZOk',\n",
       "  'ZOkD',\n",
       "  'OkDr',\n",
       "  'kDrJ',\n",
       "  'DrJJ',\n",
       "  'rJJO',\n",
       "  'JJOE',\n",
       "  'JOEo',\n",
       "  'OEoG',\n",
       "  'EoGB',\n",
       "  'oGBk',\n",
       "  'GBku',\n",
       "  'Bkut',\n",
       "  'kutv',\n",
       "  'utvr',\n",
       "  'tvrJ',\n",
       "  'vrJJ',\n",
       "  'rJJO',\n",
       "  'JJOk',\n",
       "  'JOku',\n",
       "  'Okut',\n",
       "  'kutv',\n",
       "  'utvl',\n",
       "  'tvlq',\n",
       "  'vlqL',\n",
       "  'lqLi',\n",
       "  'qLiT',\n",
       "  'LiTG',\n",
       "  'iTGy',\n",
       "  'TGyl',\n",
       "  'GylZ',\n",
       "  'ylZO',\n",
       "  'lZOk',\n",
       "  'ZOkD',\n",
       "  'OkDR',\n",
       "  'kDRx',\n",
       "  'DRxq',\n",
       "  'Rxqi',\n",
       "  'xqiR',\n",
       "  'qiRx',\n",
       "  'iRxq',\n",
       "  'Rxqi',\n",
       "  'xqiy',\n",
       "  'qiyX',\n",
       "  'iyXT',\n",
       "  'yXTS']]"
      ]
     },
     "execution_count": 3,
     "metadata": {},
     "output_type": "execute_result"
    }
   ],
   "source": [
    "dataset = []\n",
    "\n",
    "for i in range(10000):\n",
    "    r = [i]\n",
    "    s = \"\"\n",
    "    length = randint(32, 64)\n",
    "\n",
    "    while len(s) < length:\n",
    "        s += choice(words)\n",
    "    \n",
    "    r.append(s)\n",
    "    # Generate a shinglet for the string\n",
    "    r.append([r[1][j : j + 4] for j in range(len(r[1]) - 3)])\n",
    "    dataset.append(r)\n",
    "\n",
    "dataset[0]"
   ]
  },
  {
   "cell_type": "markdown",
   "id": "e950fed6-1b9d-4a57-a04d-cdbc3831515d",
   "metadata": {},
   "source": [
    "# Save the dataset to `csv`"
   ]
  },
  {
   "cell_type": "code",
   "execution_count": 4,
   "id": "4690eb6e-5a04-45ec-88a2-f6551b3ca24f",
   "metadata": {},
   "outputs": [
    {
     "name": "stdout",
     "output_type": "stream",
     "text": [
      "index,string,shingles\n",
      "0,ZOkDZOkDrJJOEoGBkutvrJJOkutvlqLiTGylZOkDRxqiRxqiyXTS,\"['ZOkD', 'OkDZ', 'kDZO', 'DZOk', 'ZOkD', 'OkDr', 'kDrJ', 'DrJJ', 'rJJO', 'JJOE', 'JOEo', 'OEoG', 'EoGB', 'oGBk', 'GBku', 'Bkut', 'kutv', 'utvr', 'tvrJ', 'vrJJ', 'rJJO', 'JJOk', 'JOku', 'Okut', 'kutv', 'utvl', 'tvlq', 'vlqL', 'lqLi', 'qLiT', 'LiTG', 'iTGy', 'TGyl', 'GylZ', 'ylZO', 'lZOk', 'ZOkD', 'OkDR', 'kDRx', 'DRxq', 'Rxqi', 'xqiR', 'qiRx', 'iRxq', 'Rxqi', 'xqiy', 'qiyX', 'iyXT', 'yXTS']\"\n",
      "1,iycnEoGBiycnTGylrJJOZOkDZOkDTGylyXTSiycnlqLilqLiRxqiTGylEoGBEoGB,\"['iycn', 'ycnE', 'cnEo', 'nEoG', 'EoGB', 'oGBi', 'GBiy', 'Biyc', 'iycn', 'ycnT', 'cnTG', 'nTGy', 'TGyl', 'Gylr', 'ylrJ', 'lrJJ', 'rJJO', 'JJOZ', 'JOZO', 'OZOk', 'ZOkD', 'OkDZ', 'kDZO', 'DZOk', 'ZOkD', 'OkDT', 'kDTG', 'DTGy', 'TGyl', 'Gyly', 'ylyX', 'lyXT', 'yXTS', 'XTSi', 'TSiy', 'Siyc', 'iycn', 'ycnl', 'cnlq', 'nlqL', 'lqLi', 'qLil', 'Lilq', 'ilqL', 'lqLi', 'qLiR', 'LiRx', 'iRxq', 'Rxqi', 'xqiT', 'qiTG', 'iTGy', 'TGyl', 'GylE', 'ylEo', 'lEoG', 'EoGB', 'oGBE', 'GBEo', 'BEoG', 'EoGB']\"\n",
      "2,rJJOiycnlqLiEoGBkutvlqLilqLilqLikutvRxqi,\"['rJJO', 'JJOi', 'JOiy', 'Oiyc', 'iycn', 'ycnl', 'cnlq', 'nlqL', 'lqLi', 'qLiE', 'LiEo', 'iEoG', 'EoGB', 'oGBk', 'GBku', 'Bkut', 'kutv', 'utvl', 'tvlq', 'vlqL', 'lqLi', 'qLil', 'Lilq', 'ilqL', 'lqLi', 'qLil', 'Lilq', 'ilqL', 'lqLi', 'qLik', 'Liku', 'ikut', 'kutv', 'utvR', 'tvRx', 'vRxq', 'Rxqi']\"\n",
      "3,EoGBTGylkutviycnZOkDRxqiljliljlirJJO,\"['EoGB', 'oGBT', 'GBTG', 'BTGy', 'TGyl', 'Gylk', 'ylku', 'lkut', 'kutv', 'utvi', 'tviy', 'viyc', 'iycn', 'ycnZ', 'cnZO', 'nZOk', 'ZOkD', 'OkDR', 'kDRx', 'DRxq', 'Rxqi', 'xqil', 'qilj', 'iljl', 'ljli', 'jlil', 'lilj', 'iljl', 'ljli', 'jlir', 'lirJ', 'irJJ', 'rJJO']\"\n",
      "4,iycnljliljliyXTSkutvrJJOTGylrJJOlqLiTGylljliTGylkutvEoGBlqLi,\"['iycn', 'ycnl', 'cnlj', 'nljl', 'ljli', 'jlil', 'lilj', 'iljl', 'ljli', 'jliy', 'liyX', 'iyXT', 'yXTS', 'XTSk', 'TSku', 'Skut', 'kutv', 'utvr', 'tvrJ', 'vrJJ', 'rJJO', 'JJOT', 'JOTG', 'OTGy', 'TGyl', 'Gylr', 'ylrJ', 'lrJJ', 'rJJO', 'JJOl', 'JOlq', 'OlqL', 'lqLi', 'qLiT', 'LiTG', 'iTGy', 'TGyl', 'Gyll', 'yllj', 'lljl', 'ljli', 'jliT', 'liTG', 'iTGy', 'TGyl', 'Gylk', 'ylku', 'lkut', 'kutv', 'utvE', 'tvEo', 'vEoG', 'EoGB', 'oGBl', 'GBlq', 'BlqL', 'lqLi']\"\n",
      "5,ljliljlilqLiZOkDiycnyXTSTGylTGylkutvljlilqLiiycnTGyl,\"['ljli', 'jlil', 'lilj', 'iljl', 'ljli', 'jlil', 'lilq', 'ilqL', 'lqLi', 'qLiZ', 'LiZO', 'iZOk', 'ZOkD', 'OkDi', 'kDiy', 'Diyc', 'iycn', 'ycny', 'cnyX', 'nyXT', 'yXTS', 'XTST', 'TSTG', 'STGy', 'TGyl', 'GylT', 'ylTG', 'lTGy', 'TGyl', 'Gylk', 'ylku', 'lkut', 'kutv', 'utvl', 'tvlj', 'vljl', 'ljli', 'jlil', 'lilq', 'ilqL', 'lqLi', 'qLii', 'Liiy', 'iiyc', 'iycn', 'ycnT', 'cnTG', 'nTGy', 'TGyl']\"\n",
      "6,RxqiiycnkutvZOkDlqLiyXTSlqLiZOkDrJJO,\"['Rxqi', 'xqii', 'qiiy', 'iiyc', 'iycn', 'ycnk', 'cnku', 'nkut', 'kutv', 'utvZ', 'tvZO', 'vZOk', 'ZOkD', 'OkDl', 'kDlq', 'DlqL', 'lqLi', 'qLiy', 'LiyX', 'iyXT', 'yXTS', 'XTSl', 'TSlq', 'SlqL', 'lqLi', 'qLiZ', 'LiZO', 'iZOk', 'ZOkD', 'OkDr', 'kDrJ', 'DrJJ', 'rJJO']\"\n",
      "7,TGylkutvrJJOZOkDlqLiEoGByXTSTGylEoGBkutvRxqiZOkDEoGBiycnEoGBljli,\"['TGyl', 'Gylk', 'ylku', 'lkut', 'kutv', 'utvr', 'tvrJ', 'vrJJ', 'rJJO', 'JJOZ', 'JOZO', 'OZOk', 'ZOkD', 'OkDl', 'kDlq', 'DlqL', 'lqLi', 'qLiE', 'LiEo', 'iEoG', 'EoGB', 'oGBy', 'GByX', 'ByXT', 'yXTS', 'XTST', 'TSTG', 'STGy', 'TGyl', 'GylE', 'ylEo', 'lEoG', 'EoGB', 'oGBk', 'GBku', 'Bkut', 'kutv', 'utvR', 'tvRx', 'vRxq', 'Rxqi', 'xqiZ', 'qiZO', 'iZOk', 'ZOkD', 'OkDE', 'kDEo', 'DEoG', 'EoGB', 'oGBi', 'GBiy', 'Biyc', 'iycn', 'ycnE', 'cnEo', 'nEoG', 'EoGB', 'oGBl', 'GBlj', 'Bljl', 'ljli']\"\n",
      "8,TGylRxqikutvkutvlqLikutvljlilqLikutvRxqilqLi,\"['TGyl', 'GylR', 'ylRx', 'lRxq', 'Rxqi', 'xqik', 'qiku', 'ikut', 'kutv', 'utvk', 'tvku', 'vkut', 'kutv', 'utvl', 'tvlq', 'vlqL', 'lqLi', 'qLik', 'Liku', 'ikut', 'kutv', 'utvl', 'tvlj', 'vljl', 'ljli', 'jlil', 'lilq', 'ilqL', 'lqLi', 'qLik', 'Liku', 'ikut', 'kutv', 'utvR', 'tvRx', 'vRxq', 'Rxqi', 'xqil', 'qilq', 'ilqL', 'lqLi']\"\n"
     ]
    }
   ],
   "source": [
    "import csv\n",
    "\n",
    "\n",
    "with open(\"dataset.csv\", \"w\") as f:\n",
    "    w = csv.writer(f)\n",
    "    w.writerow([\"index\", \"string\", \"shingles\"])\n",
    "    w.writerows(dataset)\n",
    "\n",
    "!head dataset.csv"
   ]
  },
  {
   "cell_type": "markdown",
   "id": "1d655f2b-329c-47ae-b182-f36e4d96e6db",
   "metadata": {},
   "source": [
    "# Load the dataset into `pandas`"
   ]
  },
  {
   "cell_type": "code",
   "execution_count": 5,
   "id": "b4506087-83af-4a19-805c-5d9e9a62603e",
   "metadata": {},
   "outputs": [
    {
     "data": {
      "text/html": [
       "<div>\n",
       "<style scoped>\n",
       "    .dataframe tbody tr th:only-of-type {\n",
       "        vertical-align: middle;\n",
       "    }\n",
       "\n",
       "    .dataframe tbody tr th {\n",
       "        vertical-align: top;\n",
       "    }\n",
       "\n",
       "    .dataframe thead th {\n",
       "        text-align: right;\n",
       "    }\n",
       "</style>\n",
       "<table border=\"1\" class=\"dataframe\">\n",
       "  <thead>\n",
       "    <tr style=\"text-align: right;\">\n",
       "      <th></th>\n",
       "      <th>string</th>\n",
       "      <th>shingles</th>\n",
       "    </tr>\n",
       "    <tr>\n",
       "      <th>index</th>\n",
       "      <th></th>\n",
       "      <th></th>\n",
       "    </tr>\n",
       "  </thead>\n",
       "  <tbody>\n",
       "    <tr>\n",
       "      <th>0</th>\n",
       "      <td>ZOkDZOkDrJJOEoGBkutvrJJOkutvlqLiTGylZOkDRxqiRx...</td>\n",
       "      <td>[ZOkD, OkDZ, kDZO, DZOk, ZOkD, OkDr, kDrJ, DrJ...</td>\n",
       "    </tr>\n",
       "    <tr>\n",
       "      <th>1</th>\n",
       "      <td>iycnEoGBiycnTGylrJJOZOkDZOkDTGylyXTSiycnlqLilq...</td>\n",
       "      <td>[iycn, ycnE, cnEo, nEoG, EoGB, oGBi, GBiy, Biy...</td>\n",
       "    </tr>\n",
       "    <tr>\n",
       "      <th>2</th>\n",
       "      <td>rJJOiycnlqLiEoGBkutvlqLilqLilqLikutvRxqi</td>\n",
       "      <td>[rJJO, JJOi, JOiy, Oiyc, iycn, ycnl, cnlq, nlq...</td>\n",
       "    </tr>\n",
       "    <tr>\n",
       "      <th>3</th>\n",
       "      <td>EoGBTGylkutviycnZOkDRxqiljliljlirJJO</td>\n",
       "      <td>[EoGB, oGBT, GBTG, BTGy, TGyl, Gylk, ylku, lku...</td>\n",
       "    </tr>\n",
       "    <tr>\n",
       "      <th>4</th>\n",
       "      <td>iycnljliljliyXTSkutvrJJOTGylrJJOlqLiTGylljliTG...</td>\n",
       "      <td>[iycn, ycnl, cnlj, nljl, ljli, jlil, lilj, ilj...</td>\n",
       "    </tr>\n",
       "    <tr>\n",
       "      <th>...</th>\n",
       "      <td>...</td>\n",
       "      <td>...</td>\n",
       "    </tr>\n",
       "    <tr>\n",
       "      <th>9995</th>\n",
       "      <td>yXTSkutvTGylljliyXTSljliiycnRxqiRxqiiycnljliku...</td>\n",
       "      <td>[yXTS, XTSk, TSku, Skut, kutv, utvT, tvTG, vTG...</td>\n",
       "    </tr>\n",
       "    <tr>\n",
       "      <th>9996</th>\n",
       "      <td>ZOkDyXTSljliEoGBlqLikutvTGylkutviycnlqLiRxqiyX...</td>\n",
       "      <td>[ZOkD, OkDy, kDyX, DyXT, yXTS, XTSl, TSlj, Slj...</td>\n",
       "    </tr>\n",
       "    <tr>\n",
       "      <th>9997</th>\n",
       "      <td>TGylZOkDZOkDrJJOlqLiiycnEoGBiycnRxqirJJOZOkDyX...</td>\n",
       "      <td>[TGyl, GylZ, ylZO, lZOk, ZOkD, OkDZ, kDZO, DZO...</td>\n",
       "    </tr>\n",
       "    <tr>\n",
       "      <th>9998</th>\n",
       "      <td>iycnkutvRxqiRxqiiycnRxqiEoGBljlirJJOTGylEoGBljli</td>\n",
       "      <td>[iycn, ycnk, cnku, nkut, kutv, utvR, tvRx, vRx...</td>\n",
       "    </tr>\n",
       "    <tr>\n",
       "      <th>9999</th>\n",
       "      <td>rJJORxqiEoGBiycnlqLiiycnlqLiRxqiZOkDljliEoGBRxqi</td>\n",
       "      <td>[rJJO, JJOR, JORx, ORxq, Rxqi, xqiE, qiEo, iEo...</td>\n",
       "    </tr>\n",
       "  </tbody>\n",
       "</table>\n",
       "<p>10000 rows × 2 columns</p>\n",
       "</div>"
      ],
      "text/plain": [
       "                                                  string  \\\n",
       "index                                                      \n",
       "0      ZOkDZOkDrJJOEoGBkutvrJJOkutvlqLiTGylZOkDRxqiRx...   \n",
       "1      iycnEoGBiycnTGylrJJOZOkDZOkDTGylyXTSiycnlqLilq...   \n",
       "2               rJJOiycnlqLiEoGBkutvlqLilqLilqLikutvRxqi   \n",
       "3                   EoGBTGylkutviycnZOkDRxqiljliljlirJJO   \n",
       "4      iycnljliljliyXTSkutvrJJOTGylrJJOlqLiTGylljliTG...   \n",
       "...                                                  ...   \n",
       "9995   yXTSkutvTGylljliyXTSljliiycnRxqiRxqiiycnljliku...   \n",
       "9996   ZOkDyXTSljliEoGBlqLikutvTGylkutviycnlqLiRxqiyX...   \n",
       "9997   TGylZOkDZOkDrJJOlqLiiycnEoGBiycnRxqirJJOZOkDyX...   \n",
       "9998    iycnkutvRxqiRxqiiycnRxqiEoGBljlirJJOTGylEoGBljli   \n",
       "9999    rJJORxqiEoGBiycnlqLiiycnlqLiRxqiZOkDljliEoGBRxqi   \n",
       "\n",
       "                                                shingles  \n",
       "index                                                     \n",
       "0      [ZOkD, OkDZ, kDZO, DZOk, ZOkD, OkDr, kDrJ, DrJ...  \n",
       "1      [iycn, ycnE, cnEo, nEoG, EoGB, oGBi, GBiy, Biy...  \n",
       "2      [rJJO, JJOi, JOiy, Oiyc, iycn, ycnl, cnlq, nlq...  \n",
       "3      [EoGB, oGBT, GBTG, BTGy, TGyl, Gylk, ylku, lku...  \n",
       "4      [iycn, ycnl, cnlj, nljl, ljli, jlil, lilj, ilj...  \n",
       "...                                                  ...  \n",
       "9995   [yXTS, XTSk, TSku, Skut, kutv, utvT, tvTG, vTG...  \n",
       "9996   [ZOkD, OkDy, kDyX, DyXT, yXTS, XTSl, TSlj, Slj...  \n",
       "9997   [TGyl, GylZ, ylZO, lZOk, ZOkD, OkDZ, kDZO, DZO...  \n",
       "9998   [iycn, ycnk, cnku, nkut, kutv, utvR, tvRx, vRx...  \n",
       "9999   [rJJO, JJOR, JORx, ORxq, Rxqi, xqiE, qiEo, iEo...  \n",
       "\n",
       "[10000 rows x 2 columns]"
      ]
     },
     "execution_count": 5,
     "metadata": {},
     "output_type": "execute_result"
    }
   ],
   "source": [
    "from ast import literal_eval\n",
    "import pandas as pd\n",
    "\n",
    "\n",
    "df = pd.read_csv(\"dataset.csv\", index_col=\"index\")\n",
    "df[\"shingles\"] = df[\"shingles\"].apply(literal_eval)\n",
    "\n",
    "df"
   ]
  },
  {
   "cell_type": "markdown",
   "id": "215a2269-5b6f-44e8-a37f-22bc67f5a948",
   "metadata": {},
   "source": [
    "# Binarize the shingles into a sparse matrix"
   ]
  },
  {
   "cell_type": "code",
   "execution_count": 6,
   "id": "196bf6ec-0190-4556-9f6b-841e2bc2c2f2",
   "metadata": {},
   "outputs": [
    {
     "data": {
      "text/plain": [
       "(10000, 260)"
      ]
     },
     "execution_count": 6,
     "metadata": {},
     "output_type": "execute_result"
    }
   ],
   "source": [
    "from sklearn.preprocessing import MultiLabelBinarizer\n",
    "\n",
    "\n",
    "features = MultiLabelBinarizer().fit_transform(df[\"shingles\"].apply(lambda x: map(str.casefold, x)))\n",
    "features.shape"
   ]
  },
  {
   "cell_type": "markdown",
   "id": "52c8db98-c394-4494-9756-7d1bc8307dc7",
   "metadata": {},
   "source": [
    "# Create a class for non-Euclidian space agglomerative clustering, measured with Jaccard distance"
   ]
  },
  {
   "cell_type": "code",
   "execution_count": 7,
   "id": "d6fb9f56-cbc0-4d8e-a305-ab354d591a52",
   "metadata": {},
   "outputs": [],
   "source": [
    "from collections import deque\n",
    "import numpy as np\n",
    "\n",
    "\n",
    "class AgglomerativeClustering:\n",
    "    def __init__(self, n_clusters=3, jump_threshold=None, seed=42):\n",
    "        self.n_clusters = n_clusters\n",
    "        self.jump_threshold = jump_threshold\n",
    "        self.seed = seed\n",
    "\n",
    "    def fit(self, X):\n",
    "        clusters = pd.DataFrame(\n",
    "            [(i, [i]) for i in range(len(X))],\n",
    "            columns=[\"clustroid\", \"points\"],\n",
    "        )\n",
    "\n",
    "        # Create a stack for the nearest-neighbor chain algorithm\n",
    "        stack = deque([])\n",
    "        rng = np.random.default_rng(self.seed)\n",
    "        last_diameter = 0\n",
    "\n",
    "        while len(clusters) > self.n_clusters + 1:\n",
    "            # if the stack is empty, push a random clustroid into the stack\n",
    "            if len(stack) == 0:\n",
    "                stack.appendleft(\n",
    "                    clusters[\"clustroid\"].sample(1, random_state=rng).item()\n",
    "                )\n",
    "\n",
    "            # get the clustroid and all other clustroids\n",
    "            cid = stack[0]\n",
    "            clustroids = clusters.loc[\n",
    "                clusters[\"clustroid\"] != cid, \"clustroid\"\n",
    "            ].values\n",
    "\n",
    "            # calculate and compare the Jaccard distances between the clustroids\n",
    "            # to get the closest clusters to the clustroids  \n",
    "            dist = X[clustroids, :]\n",
    "            s = dist.dot(X[cid])\n",
    "            u = X.shape[1] - (1 - dist).dot(1 - X[cid])\n",
    "            jd = 1 - s / u\n",
    "            d = clustroids[jd.argmin()]\n",
    "\n",
    "            if d in stack:\n",
    "                # if d is in the stack, then d is the immediate predecessor\n",
    "                # to the original cluster of the clstroid above, thus pop\n",
    "                # and remove both clustroids from the stack\n",
    "                stack.popleft()\n",
    "                stack.remove(d)\n",
    "\n",
    "                # merge the clusters of the two clustroids\n",
    "                points = np.array(\n",
    "                    clusters.loc[clusters[\"clustroid\"] == d, \"points\"].item()\n",
    "                    + clusters.loc[\n",
    "                        clusters[\"clustroid\"] == cid, \"points\"\n",
    "                    ].item()\n",
    "                )\n",
    "\n",
    "                # get the point with the lowest sum of square distance\n",
    "                # to all other points to get the new clustroid of the\n",
    "                # merged clusters\n",
    "                dist = X[points, :]\n",
    "                odist = dist.T\n",
    "\n",
    "                s = dist.dot(odist)\n",
    "                u = X.shape[1] - (1 - dist).dot(1 - odist)\n",
    "                jd = 1 - s / u\n",
    "\n",
    "                if self.jump_threshold is not None:\n",
    "                    diameter = jd.max()\n",
    "\n",
    "                    if np.abs(last_diameter - diameter) > self.jump_threshold:\n",
    "                        print(f\"Merging clusters with clustroid {cid} and {d} yeilded a bad cluster with a jump of {np.abs(last_diameter - diameter)}.\")\n",
    "                        break\n",
    "\n",
    "                    last_diameter = diameter\n",
    "\n",
    "                clustroid = points[np.square(jd).sum(axis=1).argmin()]\n",
    "\n",
    "                clusters.loc[clusters[\"clustroid\"] == cid, \"clustroid\"] = (\n",
    "                    clustroid\n",
    "                )\n",
    "                clusters.loc[clusters[\"clustroid\"] == d, \"clustroid\"] = (\n",
    "                    clustroid\n",
    "                )\n",
    "                clusters = clusters.groupby([\"clustroid\"], as_index=False).agg(\n",
    "                    {\"points\": \"sum\"}\n",
    "                )\n",
    "\n",
    "                print(f\"{len(clusters) - (self.n_clusters + 1)} clusters remaining\", end=\"\\r\")\n",
    "            else:\n",
    "                stack.appendleft(d)\n",
    "\n",
    "        self.labels = (\n",
    "            clusters.explode(\"points\").sort_values(\"points\")[\"clustroid\"].values\n",
    "        )\n",
    "\n",
    "        return self\n",
    "\n",
    "    def fit_predict(self, X):\n",
    "        self.fit(X)\n",
    "        return self.labels"
   ]
  },
  {
   "cell_type": "markdown",
   "id": "bfa2e2d8-e4ef-48dd-a928-6bc676efb01e",
   "metadata": {},
   "source": [
    "# Fit the algorithm, generate 10 clusters and get clustroids associated with each points"
   ]
  },
  {
   "cell_type": "code",
   "execution_count": 8,
   "id": "f7bd8e8c-d6d8-4f01-8158-a0a1fa24ba68",
   "metadata": {},
   "outputs": [
    {
     "name": "stdout",
     "output_type": "stream",
     "text": [
      "0 clusters remainingggg\r"
     ]
    },
    {
     "data": {
      "text/plain": [
       "array([1343, 2415, 1343, ..., 1343, 1343, 1343])"
      ]
     },
     "execution_count": 8,
     "metadata": {},
     "output_type": "execute_result"
    }
   ],
   "source": [
    "ac = AgglomerativeClustering(n_clusters=10, jump_threshold=0.8, seed=42)\n",
    "labels = ac.fit_predict(features)\n",
    "\n",
    "labels"
   ]
  },
  {
   "cell_type": "markdown",
   "id": "d9077082-cbce-4765-a0bf-5d6ef5d5dcf2",
   "metadata": {},
   "source": [
    "# Strings associated with the clustroids"
   ]
  },
  {
   "cell_type": "code",
   "execution_count": 16,
   "id": "e7e51eee-cf67-4a63-bbc6-00d048c7ef87",
   "metadata": {},
   "outputs": [
    {
     "data": {
      "text/plain": [
       "index\n",
       "1343    TGyllqLirJJOkutvRxqiRxqiyXTSlqLiZOkDEoGByXTSlq...\n",
       "1466    RxqiZOkDZOkDrJJOEoGBEoGBTGylRxqiEoGBiycniycniy...\n",
       "2415    rJJOTGylEoGBkutvyXTSEoGBRxqiZOkDkutvyXTSRxqiku...\n",
       "2776         EoGBljliyXTSkutviycnRxqirJJOyXTSZOkDRxqirJJO\n",
       "3468                 iycnZOkDTGyllqLiZOkDkutvZOkDEoGBkutv\n",
       "3752                 yXTSEoGBTGyliycnlqLiyXTSrJJOljliZOkD\n",
       "3795    RxqiyXTSlqLiyXTSRxqirJJOlqLiEoGBZOkDlqLiZOkDiy...\n",
       "6157             EoGBiycnkutvEoGBiycnEoGBrJJOljliiycnZOkD\n",
       "7020                 yXTSiycnZOkDljliRxqiTGylTGylyXTSZOkD\n",
       "8926             TGylkutvRxqiEoGBkutvkutvrJJOrJJORxqiljli\n",
       "9089             rJJOEoGBEoGBiycnrJJOZOkDlqLiZOkDiycnrJJO\n",
       "Name: string, dtype: object"
      ]
     },
     "execution_count": 16,
     "metadata": {},
     "output_type": "execute_result"
    }
   ],
   "source": [
    "clustroids = np.sort(np.unique(labels))\n",
    "strings = df.iloc[clustroids][\"string\"]\n",
    "\n",
    "strings"
   ]
  },
  {
   "cell_type": "markdown",
   "id": "6a9e47a8-fa2a-48e5-a43a-d61a38e03ce9",
   "metadata": {},
   "source": [
    "# Get average distances from each points within a cluster to its clustroids"
   ]
  },
  {
   "cell_type": "code",
   "execution_count": 17,
   "id": "b3160ac0-0b79-4afb-852c-e4a1c4ecd265",
   "metadata": {},
   "outputs": [
    {
     "data": {
      "text/plain": [
       "[0.8090391161744237,\n",
       " 0.7757475458201734,\n",
       " 0.8084148535857185,\n",
       " 0.799656575662779,\n",
       " 0.7804267864305218,\n",
       " 0.6563577545377721,\n",
       " 0.6941309272162229,\n",
       " 0.6863621555255427,\n",
       " 0.6829868045556217,\n",
       " 0.6781327238907647,\n",
       " 0.6274936876775825]"
      ]
     },
     "execution_count": 17,
     "metadata": {},
     "output_type": "execute_result"
    }
   ],
   "source": [
    "ajd = []\n",
    "\n",
    "for c in clustroids:\n",
    "    ft = features[np.argwhere(labels == c)]\n",
    "    cf = features[c]\n",
    "    s = ft.dot(cf)\n",
    "    u = features.shape[1] - (1 - ft).dot(1 - cf)\n",
    "    jds = 1 - s / u\n",
    "\n",
    "    ajd.append(jds.mean())\n",
    "\n",
    "ajd"
   ]
  },
  {
   "cell_type": "markdown",
   "id": "a4a2c2ff-72c2-45c8-9c26-3d3c4fb19d19",
   "metadata": {},
   "source": [
    "# Graph the average distances as a bar plot"
   ]
  },
  {
   "cell_type": "code",
   "execution_count": 18,
   "id": "d7aa2c35-28ce-432c-8b9a-f9f1610f9e13",
   "metadata": {},
   "outputs": [
    {
     "data": {
      "image/png": "[encoded data removed]",
      "text/plain": [
       "<Figure size 640x480 with 1 Axes>"
      ]
     },
     "metadata": {},
     "output_type": "display_data"
    }
   ],
   "source": [
    "import matplotlib.pyplot as plt\n",
    "\n",
    "plt.bar(range(11), ajd)\n",
    "plt.xticks(range(11), strings.apply(lambda x: x[:5] + \"...\"), rotation=45)\n",
    "plt.xlabel(\"Clustroid\")\n",
    "plt.ylabel(\"Average Jaccard distance\")\n",
    "plt.ylim(top=1)\n",
    "plt.show()"
   ]
  },
  {
   "cell_type": "code",
   "execution_count": null,
   "id": "c7a69811-a3fb-46cd-8765-31c199a8dd2b",
   "metadata": {},
   "outputs": [],
   "source": []
  }
 ],
 "metadata": {
  "kernelspec": {
   "display_name": "Python 3 (ipykernel)",
   "language": "python",
   "name": "python3"
  },
  "language_info": {
   "codemirror_mode": {
    "name": "ipython",
    "version": 3
   },
   "file_extension": ".py",
   "mimetype": "text/x-python",
   "name": "python",
   "nbconvert_exporter": "python",
   "pygments_lexer": "ipython3",
   "version": "3.12.8"
  }
 },
 "nbformat": 4,
 "nbformat_minor": 5
}
